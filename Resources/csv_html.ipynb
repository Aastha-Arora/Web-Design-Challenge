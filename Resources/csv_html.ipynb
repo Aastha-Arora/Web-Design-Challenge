{
 "cells": [
  {
   "cell_type": "code",
   "execution_count": 1,
   "metadata": {},
   "outputs": [],
   "source": [
    "import pandas as pd"
   ]
  },
  {
   "cell_type": "code",
   "execution_count": 2,
   "metadata": {},
   "outputs": [],
   "source": [
    "filepath = \"cities.csv\""
   ]
  },
  {
   "cell_type": "code",
   "execution_count": 3,
   "metadata": {},
   "outputs": [
    {
     "data": {
      "text/html": [
       "<div>\n",
       "<style scoped>\n",
       "    .dataframe tbody tr th:only-of-type {\n",
       "        vertical-align: middle;\n",
       "    }\n",
       "\n",
       "    .dataframe tbody tr th {\n",
       "        vertical-align: top;\n",
       "    }\n",
       "\n",
       "    .dataframe thead th {\n",
       "        text-align: right;\n",
       "    }\n",
       "</style>\n",
       "<table border=\"1\" class=\"dataframe\">\n",
       "  <thead>\n",
       "    <tr style=\"text-align: right;\">\n",
       "      <th></th>\n",
       "      <th>City_ID</th>\n",
       "      <th>City</th>\n",
       "      <th>Lat</th>\n",
       "      <th>Lng</th>\n",
       "      <th>Max Temp</th>\n",
       "      <th>Humidity</th>\n",
       "      <th>Cloudiness</th>\n",
       "      <th>Wind Speed</th>\n",
       "      <th>Country</th>\n",
       "      <th>Date</th>\n",
       "    </tr>\n",
       "  </thead>\n",
       "  <tbody>\n",
       "    <tr>\n",
       "      <td>0</td>\n",
       "      <td>0</td>\n",
       "      <td>aureliana</td>\n",
       "      <td>10.89</td>\n",
       "      <td>121.98</td>\n",
       "      <td>79.20</td>\n",
       "      <td>73</td>\n",
       "      <td>90</td>\n",
       "      <td>4.34</td>\n",
       "      <td>PH</td>\n",
       "      <td>1585692931</td>\n",
       "    </tr>\n",
       "    <tr>\n",
       "      <td>1</td>\n",
       "      <td>1</td>\n",
       "      <td>bethel</td>\n",
       "      <td>41.37</td>\n",
       "      <td>-73.41</td>\n",
       "      <td>48.20</td>\n",
       "      <td>61</td>\n",
       "      <td>90</td>\n",
       "      <td>6.93</td>\n",
       "      <td>US</td>\n",
       "      <td>1585692931</td>\n",
       "    </tr>\n",
       "    <tr>\n",
       "      <td>2</td>\n",
       "      <td>2</td>\n",
       "      <td>faget</td>\n",
       "      <td>45.85</td>\n",
       "      <td>22.18</td>\n",
       "      <td>27.00</td>\n",
       "      <td>79</td>\n",
       "      <td>94</td>\n",
       "      <td>5.82</td>\n",
       "      <td>RO</td>\n",
       "      <td>1585692932</td>\n",
       "    </tr>\n",
       "    <tr>\n",
       "      <td>3</td>\n",
       "      <td>3</td>\n",
       "      <td>mataura</td>\n",
       "      <td>-46.19</td>\n",
       "      <td>168.86</td>\n",
       "      <td>53.01</td>\n",
       "      <td>98</td>\n",
       "      <td>23</td>\n",
       "      <td>1.90</td>\n",
       "      <td>NZ</td>\n",
       "      <td>1585692932</td>\n",
       "    </tr>\n",
       "    <tr>\n",
       "      <td>4</td>\n",
       "      <td>4</td>\n",
       "      <td>hervey bay</td>\n",
       "      <td>-25.30</td>\n",
       "      <td>152.85</td>\n",
       "      <td>73.99</td>\n",
       "      <td>94</td>\n",
       "      <td>20</td>\n",
       "      <td>6.93</td>\n",
       "      <td>AU</td>\n",
       "      <td>1585692932</td>\n",
       "    </tr>\n",
       "  </tbody>\n",
       "</table>\n",
       "</div>"
      ],
      "text/plain": [
       "   City_ID        City    Lat     Lng  Max Temp  Humidity  Cloudiness  \\\n",
       "0        0   aureliana  10.89  121.98     79.20        73          90   \n",
       "1        1      bethel  41.37  -73.41     48.20        61          90   \n",
       "2        2       faget  45.85   22.18     27.00        79          94   \n",
       "3        3     mataura -46.19  168.86     53.01        98          23   \n",
       "4        4  hervey bay -25.30  152.85     73.99        94          20   \n",
       "\n",
       "   Wind Speed Country        Date  \n",
       "0        4.34      PH  1585692931  \n",
       "1        6.93      US  1585692931  \n",
       "2        5.82      RO  1585692932  \n",
       "3        1.90      NZ  1585692932  \n",
       "4        6.93      AU  1585692932  "
      ]
     },
     "execution_count": 3,
     "metadata": {},
     "output_type": "execute_result"
    }
   ],
   "source": [
    "cities_df = pd.read_csv(filepath)\n",
    "cities_df.head()"
   ]
  },
  {
   "cell_type": "code",
   "execution_count": 4,
   "metadata": {},
   "outputs": [],
   "source": [
    "cities_df.to_html('table.html', index=False)"
   ]
  },
  {
   "cell_type": "code",
   "execution_count": null,
   "metadata": {},
   "outputs": [],
   "source": []
  }
 ],
 "metadata": {
  "kernelspec": {
   "display_name": "Python 3",
   "language": "python",
   "name": "python3"
  },
  "language_info": {
   "codemirror_mode": {
    "name": "ipython",
    "version": 3
   },
   "file_extension": ".py",
   "mimetype": "text/x-python",
   "name": "python",
   "nbconvert_exporter": "python",
   "pygments_lexer": "ipython3",
   "version": "3.7.4"
  }
 },
 "nbformat": 4,
 "nbformat_minor": 2
}
